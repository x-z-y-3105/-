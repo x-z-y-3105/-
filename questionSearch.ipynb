{
 "cells": [
  {
   "cell_type": "code",
   "execution_count": null,
   "metadata": {},
   "outputs": [],
   "source": [
    "import asyncio\n",
    "from zhihuCrawler import PageOperation, ZhiHuSearch\n",
    "import logging\n",
    "import os\n",
    "import json\n",
    "width, height = 1366, 768\n",
    "folder = f\"G:\\PKU\\Crawler\\PyppeteerTest\\问题\\\\\"\n",
    "filename = \"Crawling\"\n",
    "\n",
    "if os.path.exists(folder):\n",
    "    print(f\"文件夹 '{folder}' 已存在\")\n",
    "else:\n",
    "    os.mkdir(folder)\n",
    "    print(f\"创建 '{folder}' 文件夹\") # 不可以用logging\n",
    "\n",
    "logging.basicConfig(\n",
    "    filename= folder + filename + \".log\", \n",
    "    filemode=\"a+\", \n",
    "    encoding='utf-8',\n",
    "    level=logging.INFO,\n",
    "    format='%(asctime)s %(levelname)s : %(message)s', \n",
    "    datefmt=\"%Y-%m-%d %H:%M:%S\",\n",
    "    )\n",
    "\n",
    "# 需要先登录\n",
    "# 进行搜索\n",
    "querys = [ \"华为\", \"台湾\", \"就业\", \"腾讯\", \"王伟恒\", \"缅甸\"]\n",
    "\n",
    "query_page = await ZhiHuSearch.frontPage()\n",
    "\n",
    "for query in querys:\n",
    "    await asyncio.sleep(5)\n",
    "    await ZhiHuSearch.search(query_page,query,queryLengthLimit=5)\n",
    "    await asyncio.sleep(5)\n",
    "    await PageOperation.scrollDown(query_page, 20)\n",
    "    qList = await ZhiHuSearch.getSearchResult(query_page=query_page)\n",
    "    with open(folder + \"query-\" + query + \".json\", 'w', encoding= 'utf-8') as json_file:\n",
    "        json.dump(qList, json_file, ensure_ascii=False, indent=4)\n",
    "    print(f\"{query} 写入 {len(qList)} 条数据（问题和答案）\")\n",
    "    asyncio.sleep(5)\n",
    "\n",
    "await query_page.close()"
   ]
  }
 ],
 "metadata": {
  "language_info": {
   "name": "python"
  }
 },
 "nbformat": 4,
 "nbformat_minor": 2
}
